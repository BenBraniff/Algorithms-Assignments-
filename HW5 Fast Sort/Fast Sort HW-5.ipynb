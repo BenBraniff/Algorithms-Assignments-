{
 "cells": [
  {
   "cell_type": "markdown",
   "id": "ca0fa6d8-af52-4b3b-b344-baf073c822e9",
   "metadata": {},
   "source": [
    "# Problem Statement\n",
    "\n"
   ]
  },
  {
   "cell_type": "markdown",
   "id": "ecfb799e-56eb-4293-a287-bbaace313ee5",
   "metadata": {},
   "source": [
    "Given an (unsorted) array of n elements where each element has a key of\n",
    "the form AAA999#AA99#A9# here the A are characters in the range 'a' to\n",
    "'z' and the 9 are characters in the range '0' to '9' and the # characters are\n",
    "from the set {@#$%&*}. (Assume whatever ordering you want for the special\n",
    "characters, as long as you are consistent. Assume alphabetical ordering for\n",
    "the letters and digits.)\n",
    "The key is at position k, an integer in the range 0 to length of one element.\n",
    "Your task is to implement a sort of this array that will be as fast (asymp-\n",
    "totically) as possible. (Much better than n log n)"
   ]
  },
  {
   "cell_type": "markdown",
   "id": "7a6a72b6-a83f-4c0f-92fb-49b35e1e4bf6",
   "metadata": {},
   "source": [
    "## General Idea"
   ]
  },
  {
   "cell_type": "markdown",
   "id": "d8f93071-a6db-46ae-859e-1a82bab10069",
   "metadata": {},
   "source": [
    "For each character in key, create bins, add all the elements in array to their respective bins. Then read, in bin in order, all the elements."
   ]
  },
  {
   "cell_type": "markdown",
   "id": "0e77b553-8a1a-4b72-9002-e370350521ff",
   "metadata": {},
   "source": [
    "## Code "
   ]
  },
  {
   "cell_type": "code",
   "execution_count": 1,
   "id": "1699e1fe-cd0a-4566-8eb4-8953a3a964c8",
   "metadata": {},
   "outputs": [],
   "source": [
    "def fast_sort(a, k):\n",
    "    # Sorting the array a on key at position k, faster than n log(n)\n",
    "    \n",
    "    bins = [a]\n",
    "    dictionaryLower = {'a': 0, 'b':1, 'c':2, 'd':3, 'e':4, 'f':5, 'g':6, 'h':7, 'i':8, 'j':9, 'k':10, 'l':11, 'm':12, 'n':13, 'o':14, 'p':15, 'q':16, 'r':17, 's':18, 't':19, 'u':20, 'v':21, 'w':22, 'x':23, 'y':24, 'z':25}\n",
    "    dictionarySpecial = {'@':0,'#':1,'$':2,'%':3,'&':4,'*':5}\n",
    "    \n",
    "    for i in range(k, k+15):\n",
    "        # create bins\n",
    "        if a[0][i].isdigit():\n",
    "            binsTwo = [[] for _ in range(10)]\n",
    "        elif a[0][i].isalpha():\n",
    "            binsTwo = [[] for _ in range(26)]\n",
    "            dictionary = dictionaryLower \n",
    "        else:\n",
    "            binsTwo = [[] for _ in range(6)]\n",
    "            dictionary = dictionarySpecial\n",
    "\n",
    "        # add all the elements to their respective bins\n",
    "        for bin in bins:\n",
    "            for e in bin:\n",
    "                if e[i].isdigit():\n",
    "                    binsTwo[int(e[i])].append(e)\n",
    "                else:\n",
    "                    binsTwo[dictionary[e[i]]].append(e)\n",
    "\n",
    "        bins = binsTwo\n",
    "    \n",
    "    return [e for bin in bins for e in bin]"
   ]
  },
  {
   "cell_type": "markdown",
   "id": "95df4dab-ed54-4752-a9ad-bb16a3d9edba",
   "metadata": {},
   "source": [
    "## Tests"
   ]
  },
  {
   "cell_type": "code",
   "execution_count": 2,
   "id": "76411ab4-b6ab-40ac-8cb0-f0e757d7a1a2",
   "metadata": {},
   "outputs": [],
   "source": [
    "from random import choice\n",
    "import string\n",
    "\n",
    "letters = string.ascii_lowercase\n",
    "digits = string.digits\n",
    "\n",
    "def gen_key():\n",
    "    # key in the form aaa999#aa99#a9#\n",
    "    key=\"\"\n",
    "    for l in range(3,0,-1):\n",
    "        key+=''.join(choice(letters) for _ in range(l))\n",
    "        key+=''.join(choice(digits) for _ in range(l))\n",
    "        key+=''.join(choice(\"@#$%&*\"))\n",
    "    return key\n",
    "\n",
    "\n",
    "def gen_element(k,l):\n",
    "    # k is number of random letters in beginning\n",
    "    # l is the total length of the elements (must be larger than k+16 where 16 == len(key)\n",
    "    e = choice(letters).upper()\n",
    "    key = gen_key()\n",
    "    # k random uppercase letters + key + for the rest (meaning from end of key to l) random uppercase letters\n",
    "    return ''.join(e for _ in range(k)) + key + ''.join(e for _ in range(l-k-len(key)))\n",
    "\n",
    "\n",
    "def gen_elements(k,l,n):\n",
    "    # return n number of elements\n",
    "    return [gen_element(k,l) for _ in range(n)]"
   ]
  },
  {
   "cell_type": "code",
   "execution_count": 3,
   "id": "d0057c5a-7619-40f3-8c26-9a76cf1ed1ae",
   "metadata": {},
   "outputs": [
    {
     "name": "stdout",
     "output_type": "stream",
     "text": [
      "Test passed!\n"
     ]
    },
    {
     "data": {
      "text/plain": [
       "True"
      ]
     },
     "execution_count": 3,
     "metadata": {},
     "output_type": "execute_result"
    }
   ],
   "source": [
    "def custom_key(element, k):\n",
    "    \"\"\"Custom key function to compare elements from position k.\"\"\"\n",
    "    return element[k:k+14]\n",
    "\n",
    "def test_fast_sort(k, l, n):\n",
    "    a = gen_elements(k, l, n)\n",
    "    \n",
    "    fast_sorted = fast_sort(a, k)\n",
    "    \n",
    "    # Sort using Python's built-in sorted() with a custom key\n",
    "    python_sorted = sorted(a, key=lambda x: custom_key(x, k))\n",
    "    \n",
    "    # Compare the two sorted lists\n",
    "    if fast_sorted != python_sorted:\n",
    "        print(\"Test failed!\")\n",
    "        return False\n",
    "\n",
    "    print(\"Test passed!\")\n",
    "    return True\n",
    "\n",
    "\n",
    "test_fast_sort(0, 16, 1)"
   ]
  },
  {
   "cell_type": "markdown",
   "id": "c76e3d6b-7801-493c-b557-784af52bbe95",
   "metadata": {},
   "source": [
    "## Proof of Correctness"
   ]
  },
  {
   "cell_type": "markdown",
   "id": "d1764f8e-9703-4e7e-8572-b38f200d2c3b",
   "metadata": {},
   "source": [
    "LI: At step i of the outer loop, looking at the elements in the bins, in order\n",
    "of the bins (either 0-9, a-z, or @-*), the elements are sorted according to the previous i characters."
   ]
  },
  {
   "cell_type": "markdown",
   "id": "cdd32951-9a96-4dd0-a086-074fb7b0a407",
   "metadata": {},
   "source": [
    "## Runtime"
   ]
  },
  {
   "cell_type": "markdown",
   "id": "0cb3a753-5ab6-47f0-a61e-ddfaa5a49a5f",
   "metadata": {},
   "source": [
    "For every character in the key (15 characters), we create binTwo, $O(1)$ and redefine dictionary, $O(1)$. Then add all the elements into binTwo, $O(n)$.\n",
    "$$ \\sum_{i=1}^{15} (1 + 1 + \\sum_{j=1}^{n}1) $$\n",
    "$$ \\sum_{i=1}^{15} (2 + n) $$\n",
    "$$ 30 + 15n $$\n",
    "$$ O(n) $$\n",
    "\n",
    "So the final runtime is $O(n)$\n",
    "\n",
    "\n",
    "To generalize, if the number of characters in the key is $k$ then the runtime is $O(kn)$"
   ]
  }
 ],
 "metadata": {
  "kernelspec": {
   "display_name": "Python 3 (ipykernel)",
   "language": "python",
   "name": "python3"
  },
  "language_info": {
   "codemirror_mode": {
    "name": "ipython",
    "version": 3
   },
   "file_extension": ".py",
   "mimetype": "text/x-python",
   "name": "python",
   "nbconvert_exporter": "python",
   "pygments_lexer": "ipython3",
   "version": "3.12.0"
  }
 },
 "nbformat": 4,
 "nbformat_minor": 5
}

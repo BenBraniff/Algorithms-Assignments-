{
 "cells": [
  {
   "cell_type": "markdown",
   "id": "ca0fa6d8-af52-4b3b-b344-baf073c822e9",
   "metadata": {},
   "source": [
    "# Problem Statement\n",
    "\n"
   ]
  },
  {
   "cell_type": "markdown",
   "id": "ecfb799e-56eb-4293-a287-bbaace313ee5",
   "metadata": {},
   "source": [
    "Given an (unsorted) array of n elements where each element has a key of\n",
    "the form AAA999#AA99#A9# here the A are characters in the range 'a' to\n",
    "'z' and the 9 are characters in the range '0' to '9' and the # characters are\n",
    "from the set {@#$%&*}. (Assume whatever ordering you want for the special\n",
    "characters, as long as you are consistent. Assume alphabetical ordering for\n",
    "the letters and digits.)\n",
    "The key is at position k, an integer in the range 0 to length of one element.\n",
    "Your task is to implement a sort of this array that will be as fast (asymp-\n",
    "totically) as possible. (Much better than n log n)"
   ]
  },
  {
   "cell_type": "markdown",
   "id": "7a6a72b6-a83f-4c0f-92fb-49b35e1e4bf6",
   "metadata": {},
   "source": [
    "## General Idea"
   ]
  },
  {
   "cell_type": "markdown",
   "id": "d8f93071-a6db-46ae-859e-1a82bab10069",
   "metadata": {},
   "source": [
    "For each character in key, create bins, add all the elements in array to their respective bins, read in bin order all elements."
   ]
  },
  {
   "cell_type": "markdown",
   "id": "0e77b553-8a1a-4b72-9002-e370350521ff",
   "metadata": {},
   "source": [
    "## Code "
   ]
  },
  {
   "cell_type": "code",
   "execution_count": 1,
   "id": "4734b81c-93a1-4c31-9322-62345552a1bd",
   "metadata": {},
   "outputs": [],
   "source": [
    "def fast_sort(a, k):\n",
    "    # Sorting the array a on key at position k, faster than n log(n)\n",
    "    \n",
    "    bins = [a]\n",
    "    dictionaryLower = {'a': 0, 'b':1, 'c':2, 'd':3, 'e':4, 'f':5, 'g':6, 'h':7, 'i':8, 'j':9, 'k':10, 'l':11, 'm':12, 'n':13, 'o':14, 'p':15, 'q':16, 'r':17, 's':18, 't':19, 'u':20, 'v':21, 'w':22, 'x':23, 'y':24, 'z':25}\n",
    "    # dictionaryUpper = {'A': 0, 'B':1, 'C':2, 'D':3, 'E':4, 'F':5, 'G':6, 'H':7, 'I':8, 'J':9, 'K':10, 'L':11, 'M':12, 'N':13, 'O':14, 'P':15, 'Q':16, 'R':17, 'S':18, 'T':19, 'U':20, 'V':21, 'W':22, 'X':23, 'Y':24, 'Z':25}\n",
    "    dictionarySpecial = {'@':0,'#':1,'$':2,'%':3,'&':4,'*':5}\n",
    "\n",
    "    # For each character in key\n",
    "    for l in range(k+14, k-1, -1):\n",
    "    # for l in range(k+1, k+15):\n",
    "\n",
    "        # create bins\n",
    "        if a[0][l].isdigit():\n",
    "            # if character is a number\n",
    "            binsTwo = [[] for _ in range(10)]\n",
    "        elif a[0][l].isalpha():\n",
    "            # if character is a letter\n",
    "            binsTwo = [[] for _ in range(26)]\n",
    "            # if a[0][l] == a[0][l].lower():\n",
    "            dictionary = dictionaryLower \n",
    "        else:\n",
    "            # if character is a special character\n",
    "            binsTwo = [[] for _ in range(6)]\n",
    "            dictionary = dictionarySpecial\n",
    "\n",
    "        # add all the elements in array to their respective bins\n",
    "        for bin in bins:\n",
    "            for e in bin:\n",
    "                if e[l].isdigit():\n",
    "                    # if character is a number\n",
    "                    binsTwo[int(e[l])].append(e)\n",
    "                else:\n",
    "                    # if character is a letter or special character\n",
    "                    binsTwo[dictionary[e[l]]].append(e)\n",
    "\n",
    "        # rename bins after adding elements\n",
    "        bins = binsTwo\n",
    "    \n",
    "    # read in bin order all elements.\n",
    "    return [e for bin in bins for e in bin]"
   ]
  },
  {
   "cell_type": "code",
   "execution_count": 2,
   "id": "c6de2542-5297-4808-89d0-af70123d0da3",
   "metadata": {},
   "outputs": [],
   "source": [
    "# def fast_sort2(a, k):\n",
    "    # For each character in key\n",
    "        # create bins\n",
    "        # add all the elements in array to their respective bins\n",
    "        # rename bins after adding elements\n",
    "\n",
    "    # read in bin order all elements."
   ]
  },
  {
   "cell_type": "code",
   "execution_count": 3,
   "id": "f1621c34-dc9a-4099-9849-5478110f7105",
   "metadata": {},
   "outputs": [],
   "source": [
    "def binsort(a):\n",
    "    # array of 1 bin of keys incase the for loop doesnt run\n",
    "    bins = [a]\n",
    "\n",
    "    # for every character in key from last character to first\n",
    "    # for AAA#999#AA99#A9# from # at postion 15 to A at position 0\n",
    "    for l in range(len(a[0])-1,-1,-1):\n",
    "        \n",
    "        # array of 10 bins, one for each digit 0,1,2,3,...,8,9\n",
    "        binsTwo = [[] for _ in range(10)]\n",
    "        # for each bin in array of bins from bin0 to bin9\n",
    "        for bin in bins:\n",
    "            # for each key in bin\n",
    "            for e in bin:\n",
    "                # add key to the bin with the same character\n",
    "                binsTwo[e[l]].append(e)\n",
    "        \n",
    "        # sets base array to new array of bins\n",
    "        bins = binsTwo\n",
    "\n",
    "    # return an array of keys by going through bins since some bins could be empty\n",
    "    return [e for bin in bins for e in bin]"
   ]
  },
  {
   "cell_type": "code",
   "execution_count": 4,
   "id": "5f7223be-808e-4696-892f-2c8bfec08197",
   "metadata": {},
   "outputs": [],
   "source": [
    "def binsort(a):\n",
    "    bins = [a]\n",
    "    for l in range(len(a[0])-1,-1,-1):\n",
    "        binsTwo = [[] for _ in range(10)]\n",
    "        for bin in bins:\n",
    "            for e in bin:\n",
    "                binsTwo[e[l]].append(e)\n",
    "    bins = binsTwo\n",
    "    return [e for bin in bins for e in bin]"
   ]
  },
  {
   "cell_type": "markdown",
   "id": "95df4dab-ed54-4752-a9ad-bb16a3d9edba",
   "metadata": {},
   "source": [
    "## Tests"
   ]
  },
  {
   "cell_type": "code",
   "execution_count": 5,
   "id": "76411ab4-b6ab-40ac-8cb0-f0e757d7a1a2",
   "metadata": {},
   "outputs": [],
   "source": [
    "from random import choice\n",
    "import string\n",
    "\n",
    "letters = string.ascii_lowercase\n",
    "digits = string.digits\n",
    "\n",
    "def gen_key():\n",
    "    # key in the form aaa999#aa99#a9#\n",
    "    key=\"\"\n",
    "    for l in range(3,0,-1):\n",
    "        key+=''.join(choice(letters) for _ in range(l))\n",
    "        key+=''.join(choice(digits) for _ in range(l))\n",
    "        key+=''.join(choice(\"@#$%&*\"))\n",
    "    return key\n",
    "\n",
    "\n",
    "def gen_element(k,l):\n",
    "    # k is number of random letters in beginning\n",
    "    # l is the total length of the elements (must be larger than k+16 where 16 == len(key)\n",
    "    e = choice(letters).upper()\n",
    "    key = gen_key()\n",
    "    # k random uppercase letters + key + for the rest (meaning from end of key to l) random uppercase letters\n",
    "    return ''.join(e for _ in range(k)) + key + ''.join(e for _ in range(l-k-len(key)))\n",
    "\n",
    "\n",
    "def gen_elements(k,l,n):\n",
    "    # return n number of elements\n",
    "    return [gen_element(k,l) for _ in range(n)]\n",
    "\n"
   ]
  },
  {
   "cell_type": "code",
   "execution_count": 6,
   "id": "e3970b7f-a9ac-49c7-bb1b-d634e69faf80",
   "metadata": {},
   "outputs": [
    {
     "name": "stdout",
     "output_type": "stream",
     "text": [
      "WWWWjay191$sj78*p8*WWWWW\n",
      "HHHHovn884%xh89@m0$HHHHH\n",
      "RRRRxuw504@be52@i6@RRRRR\n",
      "BBBBhzo071*zn30@a0&BBBBB\n",
      "QQQQnsq927#ni95$h2%QQQQQ\n",
      "BBBBfsc335&zx08#v8%BBBBB\n",
      "JJJJpeb758@yq82@h5#JJJJJ\n",
      "YYYYxbs040$vl92$b1%YYYYY\n",
      "QQQQpyh070%ip19@n1@QQQQQ\n",
      "GGGGlkr561*su63#t1%GGGGG\n",
      "\n"
     ]
    },
    {
     "data": {
      "text/plain": [
       "['BBBBfsc335&zx08#v8%BBBBB',\n",
       " 'BBBBhzo071*zn30@a0&BBBBB',\n",
       " 'WWWWjay191$sj78*p8*WWWWW',\n",
       " 'GGGGlkr561*su63#t1%GGGGG',\n",
       " 'QQQQnsq927#ni95$h2%QQQQQ',\n",
       " 'HHHHovn884%xh89@m0$HHHHH',\n",
       " 'JJJJpeb758@yq82@h5#JJJJJ',\n",
       " 'QQQQpyh070%ip19@n1@QQQQQ',\n",
       " 'YYYYxbs040$vl92$b1%YYYYY',\n",
       " 'RRRRxuw504@be52@i6@RRRRR']"
      ]
     },
     "execution_count": 6,
     "metadata": {},
     "output_type": "execute_result"
    }
   ],
   "source": [
    "k = 4\n",
    "a = gen_elements(k, 24, 10)\n",
    "\n",
    "for i in a:\n",
    "    print(i)\n",
    "print()\n",
    "\n",
    "fast_sort(a, k)"
   ]
  },
  {
   "cell_type": "markdown",
   "id": "c76e3d6b-7801-493c-b557-784af52bbe95",
   "metadata": {},
   "source": [
    "## Proof of Correctness"
   ]
  },
  {
   "cell_type": "markdown",
   "id": "d1764f8e-9703-4e7e-8572-b38f200d2c3b",
   "metadata": {},
   "source": []
  },
  {
   "cell_type": "markdown",
   "id": "cdd32951-9a96-4dd0-a086-074fb7b0a407",
   "metadata": {},
   "source": [
    "## Runtime"
   ]
  },
  {
   "cell_type": "markdown",
   "id": "0cb3a753-5ab6-47f0-a61e-ddfaa5a49a5f",
   "metadata": {},
   "source": []
  }
 ],
 "metadata": {
  "kernelspec": {
   "display_name": "Python 3 (ipykernel)",
   "language": "python",
   "name": "python3"
  },
  "language_info": {
   "codemirror_mode": {
    "name": "ipython",
    "version": 3
   },
   "file_extension": ".py",
   "mimetype": "text/x-python",
   "name": "python",
   "nbconvert_exporter": "python",
   "pygments_lexer": "ipython3",
   "version": "3.12.0"
  }
 },
 "nbformat": 4,
 "nbformat_minor": 5
}

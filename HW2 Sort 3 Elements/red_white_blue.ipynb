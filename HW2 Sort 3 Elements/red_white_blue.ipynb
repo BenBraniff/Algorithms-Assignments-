{
 "cells": [
  {
   "cell_type": "markdown",
   "id": "ca0fa6d8-af52-4b3b-b344-baf073c822e9",
   "metadata": {},
   "source": [
    "# Problem Statement\n",
    "\n"
   ]
  },
  {
   "cell_type": "markdown",
   "id": "ecfb799e-56eb-4293-a287-bbaace313ee5",
   "metadata": {},
   "source": [
    "The problem is to sort an array containing exactly three symbols, say red,\n",
    "white and blue so that all reds come together, followed by all whites,\n",
    "followed finally by all blues.\n",
    "Alternatively you can use 0, 1 and 2. The problem is the same.\n",
    "Your objective is to do this in O(n) time without additional memory.\n",
    "Therefore none of the general-purpose sorting algorithms can be used and\n",
    "neither can you create a new array. You must do this in-place."
   ]
  },
  {
   "cell_type": "markdown",
   "id": "7a6a72b6-a83f-4c0f-92fb-49b35e1e4bf6",
   "metadata": {},
   "source": [
    "## General Idea"
   ]
  },
  {
   "cell_type": "markdown",
   "id": "a2c024c7-4339-48f1-ae46-f0afd7b8d737",
   "metadata": {
    "jp-MarkdownHeadingCollapsed": true
   },
   "source": [
    "Go through the array once to count how many reds, whites, and blues there are. Store those counts in thier own respective variables. Then iterate through the original array and overwrite the values with first red_count number of reds first, then white_count number of whites, then finally blue_count number of blues. The space complexity is the original array plus 3 variables."
   ]
  },
  {
   "cell_type": "markdown",
   "id": "0e77b553-8a1a-4b72-9002-e370350521ff",
   "metadata": {},
   "source": [
    "## Code "
   ]
  },
  {
   "cell_type": "code",
   "execution_count": 1,
   "id": "30caa430-aaa0-4a49-826f-f859ff0b8aa4",
   "metadata": {
    "jupyter": {
     "source_hidden": true
    }
   },
   "outputs": [],
   "source": [
    "# This function sorts the array such that 'red' < 'white' < 'blue'\n",
    "\n",
    "def rwb(a):\n",
    "    red_count = 0\n",
    "    white_count = 0\n",
    "    blue_count = 0\n",
    "\n",
    "    for i in range(len(a)):\n",
    "        if(a[i] == 'red'):\n",
    "            red_count = red_count + 1\n",
    "        elif(a[i] == 'white'):\n",
    "            white_count = white_count + 1\n",
    "        elif(a[i] == 'blue'):\n",
    "            blue_count = blue_count + 1\n",
    "\n",
    "    for i in range(red_count):\n",
    "        a[i] = 'red'\n",
    "    for i in range(red_count, red_count + white_count):\n",
    "        a[i] = 'white'\n",
    "    for i in range(red_count + white_count, red_count + white_count + blue_count):\n",
    "        a[i] = 'blue'\n",
    "\n",
    "    print('red = ' + str(red_count))\n",
    "    print('white = ' + str(white_count))\n",
    "    print('blue = ' + str(blue_count))\n",
    "\n",
    "    return a"
   ]
  },
  {
   "cell_type": "code",
   "execution_count": 2,
   "id": "d5f77087-45a7-44d0-94a7-8d9e5f815051",
   "metadata": {},
   "outputs": [],
   "source": [
    "# This function sorts the array from least to greatest [0,1,2]\n",
    "# In connection to the problem, 0 is 'red', 1 is 'white', 2 is 'blue'\n",
    "\n",
    "def rwb_with_nums(a):\n",
    "    zero_count = 0\n",
    "    one_count = 0\n",
    "    two_count = 0\n",
    "\n",
    "    # this for loop is in O(n) time complexity\n",
    "    for i in range(len(a)):\n",
    "        if(a[i] == 0):\n",
    "            zero_count = zero_count + 1\n",
    "        elif(a[i] == 1):\n",
    "            one_count = one_count + 1\n",
    "        elif(a[i] == 2):\n",
    "            two_count = two_count + 1\n",
    "\n",
    "    # these 3 for loops combined is in O(n) time complexity\n",
    "    for j in range(zero_count):\n",
    "        a[j] = 0\n",
    "    for j in range(zero_count, zero_count + one_count):\n",
    "        a[j] = 1\n",
    "    for j in range(zero_count + one_count, zero_count + one_count + two_count):\n",
    "        a[j] = 2\n",
    "\n",
    "    print('0 count = ' + str(zero_count))\n",
    "    print('1 count = ' + str(one_count))\n",
    "    print('2 count = ' + str(two_count))\n",
    "\n",
    "    return a"
   ]
  },
  {
   "cell_type": "markdown",
   "id": "95df4dab-ed54-4752-a9ad-bb16a3d9edba",
   "metadata": {},
   "source": [
    "## Tests"
   ]
  },
  {
   "cell_type": "code",
   "execution_count": 3,
   "id": "ed6e1080-0133-4fe6-84e2-7e0f42ab33ff",
   "metadata": {
    "jupyter": {
     "source_hidden": true
    }
   },
   "outputs": [],
   "source": [
    "# This function randomly generates an array with 'red' 'white' and 'blue'\n",
    "\n",
    "import random\n",
    "def generate_array(size):\n",
    "    a = []\n",
    "    for i in range(size):\n",
    "        r = random.randint(0,2)\n",
    "        match r:\n",
    "            case 0:\n",
    "                a.append('red')\n",
    "            case 1:\n",
    "                a.append('white')\n",
    "            case 2:\n",
    "                a.append('blue')\n",
    "\n",
    "    return a\n"
   ]
  },
  {
   "cell_type": "code",
   "execution_count": 4,
   "id": "9bdecb66-c695-415f-b82b-8a8b40316d65",
   "metadata": {
    "jupyter": {
     "source_hidden": true
    }
   },
   "outputs": [
    {
     "name": "stdout",
     "output_type": "stream",
     "text": [
      "['red', 'blue', 'white', 'white', 'white', 'red', 'red', 'blue']\n",
      "red = 3\n",
      "white = 3\n",
      "blue = 2\n"
     ]
    },
    {
     "data": {
      "text/plain": [
       "['red', 'red', 'red', 'white', 'white', 'white', 'blue', 'blue']"
      ]
     },
     "execution_count": 4,
     "metadata": {},
     "output_type": "execute_result"
    }
   ],
   "source": [
    "# tests the functions for 'red' 'white' and 'blue'\n",
    "\n",
    "another = generate_array(8)\n",
    "print(another)\n",
    "rwb(another)"
   ]
  },
  {
   "cell_type": "code",
   "execution_count": 5,
   "id": "5563294e-90e2-4bba-839f-73d6ed78cc6e",
   "metadata": {},
   "outputs": [],
   "source": [
    "# This function randomly generates an array with 0, 1, and 2\n",
    "\n",
    "import random\n",
    "def generate_array_num(size):\n",
    "    a = []\n",
    "    for i in range(size):\n",
    "        a.append(random.randint(0,2))\n",
    "    return a\n"
   ]
  },
  {
   "cell_type": "code",
   "execution_count": 6,
   "id": "35c7697b-7953-4c85-a95a-a72af081e214",
   "metadata": {},
   "outputs": [
    {
     "name": "stdout",
     "output_type": "stream",
     "text": [
      "[1, 0, 1, 1, 2, 0, 1, 2, 1, 2, 0, 1, 2, 2, 1, 0, 0, 2, 0, 2]\n",
      "0 count = 6\n",
      "1 count = 7\n",
      "2 count = 7\n"
     ]
    },
    {
     "data": {
      "text/plain": [
       "[0, 0, 0, 0, 0, 0, 1, 1, 1, 1, 1, 1, 1, 2, 2, 2, 2, 2, 2, 2]"
      ]
     },
     "execution_count": 6,
     "metadata": {},
     "output_type": "execute_result"
    }
   ],
   "source": [
    "# tests the functions for 0, 1, and 2\n",
    "\n",
    "array_with_num = generate_array_num(20)\n",
    "print(array_with_num)\n",
    "rwb_with_nums(array_with_num)"
   ]
  },
  {
   "cell_type": "markdown",
   "id": "c76e3d6b-7801-493c-b557-784af52bbe95",
   "metadata": {},
   "source": [
    "## Proof of Correctness"
   ]
  },
  {
   "cell_type": "markdown",
   "id": "29f4c83e-641a-417f-888b-faf5e41924de",
   "metadata": {},
   "source": [
    "The first for loop goes through the array from postion 0 to n-1. If it passes over a red, it increments the red count by 1. If it passes over a white, it increments the white count. And for blue is the same. At the end of the loop the array counted the total number in the array for each color.\n",
    "\n",
    "The function will iterate through the array again overwriting each value at each postion. It will iterate through the first red_count number of positions and rewrite the values to be 'red'. Then itereate through the next white_count number of postions and rewrite the values to be 'white'. And for 'blue' is the same."
   ]
  },
  {
   "cell_type": "markdown",
   "id": "cdd32951-9a96-4dd0-a086-074fb7b0a407",
   "metadata": {},
   "source": [
    "## Runtime"
   ]
  },
  {
   "cell_type": "markdown",
   "id": "28fbd50a-e5c7-4e60-8b3b-ddea78bade9e",
   "metadata": {},
   "source": [
    "This code runs twice through the array so the combined time complexity is O(2n), but with big-O notation, the leading co-efficient is dropped so the run time is in O(n)."
   ]
  },
  {
   "cell_type": "markdown",
   "id": "792a3fb6-a697-4612-89f7-ab24f3a760e2",
   "metadata": {},
   "source": [
    "$$\n",
    "T(n) = \\sum_{i=0}^{n-1} 1 + \\sum_{j=0}^{n-1} 1\n",
    "$$\n"
   ]
  },
  {
   "cell_type": "markdown",
   "id": "df05a570-b263-4c22-9382-831247712f6d",
   "metadata": {},
   "source": [
    "$$\n",
    "T(n) = 2 \\cdot ((n-1) - 0 + 1) \\cdot 1\n",
    "$$"
   ]
  },
  {
   "cell_type": "markdown",
   "id": "d5de5e13-b296-4287-9b85-35846c69ff7f",
   "metadata": {},
   "source": [
    "$$\n",
    "T(n) = 2n \\in O(n)\n",
    "$$"
   ]
  }
 ],
 "metadata": {
  "kernelspec": {
   "display_name": "Python 3 (ipykernel)",
   "language": "python",
   "name": "python3"
  },
  "language_info": {
   "codemirror_mode": {
    "name": "ipython",
    "version": 3
   },
   "file_extension": ".py",
   "mimetype": "text/x-python",
   "name": "python",
   "nbconvert_exporter": "python",
   "pygments_lexer": "ipython3",
   "version": "3.12.0"
  }
 },
 "nbformat": 4,
 "nbformat_minor": 5
}

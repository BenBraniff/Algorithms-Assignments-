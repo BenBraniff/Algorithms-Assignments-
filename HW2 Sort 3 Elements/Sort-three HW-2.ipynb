{
 "cells": [
  {
   "cell_type": "markdown",
   "id": "ca0fa6d8-af52-4b3b-b344-baf073c822e9",
   "metadata": {},
   "source": [
    "# Problem Statement\n",
    "\n"
   ]
  },
  {
   "cell_type": "markdown",
   "id": "ecfb799e-56eb-4293-a287-bbaace313ee5",
   "metadata": {},
   "source": [
    "### Partitioning an array of three distinct elements\n",
    "\n",
    "The first function you have to write is sort_three. It receives two parameters."
   ]
  },
  {
   "cell_type": "raw",
   "id": "27b571e5-0842-46d4-a1d5-78c4fdcf8b33",
   "metadata": {},
   "source": [
    "def sort_three(array, elements)\n",
    "    # ...\n",
    "    return p0,p1,p2"
   ]
  },
  {
   "cell_type": "markdown",
   "id": "bf96aa3d-3143-4079-9d68-d74714a6ca49",
   "metadata": {},
   "source": [
    "The first parameter is an array that contains multiple instances of at\n",
    "most three elements, but unsorted and possibly repeated multiple times.\n",
    "For example, the array could be\n",
    "\n",
    "[0,1,1,1,2,0,0,2,2,2,1,1,1,0,0,2,2,1]\n",
    "\n",
    "The second parameter is an array of exactly three elements (the same as the\n",
    "first array) that indicates in which order to sort the first array. For example\n",
    "the second array could be\n",
    "\n",
    "[2,0,1]\n",
    "\n",
    "meaning that you are to sort the first array by putting all 2, then all 0, then\n",
    "all 1.\n",
    "You are not allowed any additional space. The sort must be in place.\n",
    "The function sorts the array in time Θ(n) where n is the length of the\n",
    "array. Hint: use a scanning approach.\n",
    "The function returns a tuple of three indices p0, p1, p2 such that the array,\n",
    "after it is sorted, satisfies\n",
    "\n",
    "• [0..p0) contains the first element\n",
    "\n",
    "• [p0..p1) contains the second element\n",
    "\n",
    "• [p2..n) contains the last element\n",
    "\n",
    "Test, prove correct, and argue that it is linear in time."
   ]
  },
  {
   "cell_type": "markdown",
   "id": "7a6a72b6-a83f-4c0f-92fb-49b35e1e4bf6",
   "metadata": {},
   "source": [
    "## General Idea"
   ]
  },
  {
   "cell_type": "markdown",
   "id": "a2c024c7-4339-48f1-ae46-f0afd7b8d737",
   "metadata": {
    "jp-MarkdownHeadingCollapsed": true
   },
   "source": [
    "Go through the array once to count how many elements[0], elements[1], and elements[2] there are. Store those counts in thier own respective variables. Then iterate through the original array and overwrite the values starting with 'a' number of elements[0] first, then 'b' number of elements[1], then finally c number of elements[2]. The space complexity is the original array plus 3 variables."
   ]
  },
  {
   "cell_type": "markdown",
   "id": "0e77b553-8a1a-4b72-9002-e370350521ff",
   "metadata": {},
   "source": [
    "## Code "
   ]
  },
  {
   "cell_type": "code",
   "execution_count": 1,
   "id": "d5f77087-45a7-44d0-94a7-8d9e5f815051",
   "metadata": {},
   "outputs": [],
   "source": [
    "# This function sorts the array from elements[0] to elements[2]\n",
    "\n",
    "def sort_three(array, elements):\n",
    "    \n",
    "    a, b, c = 0, 0, 0\n",
    "\n",
    "    # this for loop goes through the array once so its in O(n) time complexity\n",
    "    for i in range(len(array)):\n",
    "        if(array[i] == elements[0]):\n",
    "            a = a + 1\n",
    "        elif(array[i] == elements[1]):\n",
    "            b = b + 1\n",
    "        elif(array[i] == elements[2]):\n",
    "            c = c + 1\n",
    "\n",
    "    # these 3 for loops combined go through the array so they are in O(n) time complexity\n",
    "    p0 = a\n",
    "    p1 = p0+b\n",
    "    p2 = p1\n",
    "    \n",
    "    for j in range(p0+1):\n",
    "        array[j] = elements[0]\n",
    "    for j in range(p0, p1+1):\n",
    "        array[j] = elements[1]\n",
    "    for j in range(p2, len(array)):\n",
    "        array[j] = elements[2]\n",
    "\n",
    "    return p0,p1,p2"
   ]
  },
  {
   "cell_type": "markdown",
   "id": "95df4dab-ed54-4752-a9ad-bb16a3d9edba",
   "metadata": {},
   "source": [
    "## Tests"
   ]
  },
  {
   "cell_type": "code",
   "execution_count": 2,
   "id": "0084fadd-86cd-44dd-9269-04062cb0abf0",
   "metadata": {},
   "outputs": [],
   "source": [
    "from random import choice\n",
    "def test_sort():\n",
    "    n=20\n",
    "    elements=[[0,1,2],[2,0,1],[2,1,0],['a','c','b']]\n",
    "    for e in elements:\n",
    "        a=[choice(e) for _ in range(n)]\n",
    "        (p0,p1,p2)=sort_three(a,e)\n",
    "        if not all([a[0:p0]==[e[0]]*p0,a[p0:p1]==[e[1]]*(p2-p0),a[p2:]==[e[2]]*(n-p2)]):\n",
    "            print(\"Failed on \", a, e, (p0,p1,p2))\n",
    "            return\n",
    "    print(\"Success\")"
   ]
  },
  {
   "cell_type": "code",
   "execution_count": 3,
   "id": "bf4f299f-f900-4dd4-baf7-a6c348e59751",
   "metadata": {},
   "outputs": [
    {
     "name": "stdout",
     "output_type": "stream",
     "text": [
      "Success\n"
     ]
    }
   ],
   "source": [
    "test_sort()"
   ]
  },
  {
   "cell_type": "markdown",
   "id": "c76e3d6b-7801-493c-b557-784af52bbe95",
   "metadata": {},
   "source": [
    "## Proof of Correctness"
   ]
  },
  {
   "cell_type": "markdown",
   "id": "29f4c83e-641a-417f-888b-faf5e41924de",
   "metadata": {},
   "source": [
    "The first for loop goes through the array from postion 0 to n-1. If it passes over a number with value matching elements[0], it increments the 'a' count by 1. If it passes over a number with value of elements[1], it increments the 'b' count. And for 'c' is the same. At the end of the loop, it counted the total number in the array for each elements[x].\n",
    "\n",
    "The function will iterate through the array again overwriting each value at each postion. It will iterate through the first 'a' number of positions and rewrite the values to be elements[0]. Then iterate through the next 'b' number of postions and rewrite the values to be elements[1]. And for 'c' is the same."
   ]
  },
  {
   "cell_type": "markdown",
   "id": "cdd32951-9a96-4dd0-a086-074fb7b0a407",
   "metadata": {},
   "source": [
    "## Runtime"
   ]
  },
  {
   "cell_type": "markdown",
   "id": "28fbd50a-e5c7-4e60-8b3b-ddea78bade9e",
   "metadata": {},
   "source": [
    "This code runs through the array twice so the combined time complexity is Θ(2n), but with big-Θ notation, the leading co-efficient is dropped so the run time is in Θ(n)."
   ]
  },
  {
   "cell_type": "markdown",
   "id": "792a3fb6-a697-4612-89f7-ab24f3a760e2",
   "metadata": {},
   "source": [
    "$$\n",
    "T(n) = \\sum_{i=0}^{n-1} 1 + \\sum_{j=0}^{n-1} 1\n",
    "$$"
   ]
  },
  {
   "cell_type": "markdown",
   "id": "df05a570-b263-4c22-9382-831247712f6d",
   "metadata": {},
   "source": [
    "$$\n",
    "T(n) = 2 \\cdot ((n-1) - 0 + 1) \\cdot 1\n",
    "$$"
   ]
  },
  {
   "cell_type": "markdown",
   "id": "d5de5e13-b296-4287-9b85-35846c69ff7f",
   "metadata": {},
   "source": [
    "$$\n",
    "T(n) = 2n \\in Θ(n)\n",
    "$$"
   ]
  }
 ],
 "metadata": {
  "kernelspec": {
   "display_name": "Python 3 (ipykernel)",
   "language": "python",
   "name": "python3"
  },
  "language_info": {
   "codemirror_mode": {
    "name": "ipython",
    "version": 3
   },
   "file_extension": ".py",
   "mimetype": "text/x-python",
   "name": "python",
   "nbconvert_exporter": "python",
   "pygments_lexer": "ipython3",
   "version": "3.12.0"
  }
 },
 "nbformat": 4,
 "nbformat_minor": 5
}

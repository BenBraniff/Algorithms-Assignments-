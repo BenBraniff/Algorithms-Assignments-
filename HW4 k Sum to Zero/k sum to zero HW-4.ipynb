{
 "cells": [
  {
   "cell_type": "markdown",
   "id": "ca0fa6d8-af52-4b3b-b344-baf073c822e9",
   "metadata": {},
   "source": [
    "# Problem Statement\n",
    "\n"
   ]
  },
  {
   "cell_type": "markdown",
   "id": "ecfb799e-56eb-4293-a287-bbaace313ee5",
   "metadata": {},
   "source": [
    "Given an (unsorted) array of n integers and a positive integer k, return k elements of the array that sum to zero, if there are such k elements. Otherwise return None.\n",
    "\n",
    "\n",
    "For those of you who know Python's library very well: Yes, I know there\n",
    "is a library function that will do most of the work for you, but the whole point\n",
    "of this class is not to uncover work done by others, but rather to develop\n",
    "the algorithms yourself. So, you cannot call any library function other than\n",
    "sorting, if you need to. Since we have developped sorting algorithms already,\n",
    "that is allowed.\n",
    "This is not a dicult assignment. You should be able to come up with a\n",
    "solution almost immediately. But pay particular attention to your runtime\n",
    "computations and proof of correctness.\n",
    "To clarify any misunderstanding on the correct parameters, here is the\n",
    "functions signature. Fill-in the blanks.\n",
    "\n",
    "def k_zero_sum(a,k):\n",
    "    \"\"\"a is an array of n elements. We return an array of the k elements summing to 0.\"\"\"\n",
    "    return None"
   ]
  },
  {
   "cell_type": "markdown",
   "id": "7a6a72b6-a83f-4c0f-92fb-49b35e1e4bf6",
   "metadata": {},
   "source": [
    "## General Idea"
   ]
  },
  {
   "cell_type": "markdown",
   "id": "8f140f9c-afa0-4fc7-a93b-c53a53ee10cd",
   "metadata": {},
   "source": [
    "To sum/test every subset of size k on the array using recursion and backtracking"
   ]
  },
  {
   "cell_type": "markdown",
   "id": "0e77b553-8a1a-4b72-9002-e370350521ff",
   "metadata": {},
   "source": [
    "## Code "
   ]
  },
  {
   "cell_type": "code",
   "execution_count": 1,
   "id": "4734b81c-93a1-4c31-9322-62345552a1bd",
   "metadata": {},
   "outputs": [],
   "source": [
    "def k_zero_sum(a,k):\n",
    "    def backtrack(start, k, current_combination):\n",
    "        if k == 0:\n",
    "            if sum(current_combination) == 0:\n",
    "                return current_combination\n",
    "            return None\n",
    "        \n",
    "        for i in range(start, len(a)):\n",
    "            # Add arr[i] to the current combination\n",
    "            current_combination.append(a[i])\n",
    "            # Recursion to find the next element in the combination\n",
    "            result = backtrack(i + 1, k - 1, current_combination)\n",
    "            if result:\n",
    "                return result\n",
    "            # Backtrack (remove arr[i] and try the next element)\n",
    "            current_combination.pop()\n",
    "\n",
    "        return None\n",
    "\n",
    "    # Call the recursive backtrack function\n",
    "    return backtrack(0, k, [])"
   ]
  },
  {
   "cell_type": "markdown",
   "id": "95df4dab-ed54-4752-a9ad-bb16a3d9edba",
   "metadata": {},
   "source": [
    "## Tests"
   ]
  },
  {
   "cell_type": "code",
   "execution_count": 2,
   "id": "76411ab4-b6ab-40ac-8cb0-f0e757d7a1a2",
   "metadata": {},
   "outputs": [],
   "source": [
    "from random import randint, shuffle\n",
    "def valid(a,k,b):\n",
    "     # We we check that the array b sums to zero, is of the proper length and is from a.\n",
    "    return all([len(b)==k]+[sum(b)==0]+[e in a for e in b])\n",
    "\n",
    "def test_k_zero_sum():\n",
    "    # First we will create an array with subarrays of various sizes summing to zero.\n",
    "    a,start,end = [],2,5\n",
    "    for k in range(start-1,end):\n",
    "        b = [randint(-100,100) for _ in range(k)] # k-1 random integers\n",
    "        b.append(-sum(b)) # one more, to make the sum 0\n",
    "        a = a+b # append to our test array\n",
    "    shuffle(a) # mix it up\n",
    "    # Now that we have this array, we call k_zero_sum for each k.\n",
    "    # If correct, it must find each of the subarrays.\n",
    "    return all([valid(a,k,k_zero_sum(a,k)) for k in range(start,end+1)])"
   ]
  },
  {
   "cell_type": "code",
   "execution_count": 3,
   "id": "c9b1a5dc-88ad-452a-b534-e0d549e8c34d",
   "metadata": {},
   "outputs": [
    {
     "name": "stdout",
     "output_type": "stream",
     "text": [
      "True\n"
     ]
    }
   ],
   "source": [
    "print(test_k_zero_sum())"
   ]
  },
  {
   "cell_type": "markdown",
   "id": "c76e3d6b-7801-493c-b557-784af52bbe95",
   "metadata": {},
   "source": [
    "## Proof of Correctness"
   ]
  },
  {
   "cell_type": "markdown",
   "id": "a4516bfb-68b4-4aaf-b02a-a6efc344ffa0",
   "metadata": {},
   "source": [
    "The correctness of the algorithm can be proven by induction on the size of the combination `k`. The algorithm uses backtracking to explore all possible subsets of size `k` from the given array. At each recursive step, it selects one element, reduces the problem to finding `k-1` elements from the remaining array, and continues until `k` elements are selected. Once a subset of `k` elements is formed, it checks if the sum of these elements is zero. If such a subset is found, the algorithm returns it; otherwise, it backtracks and tries other combinations. The base case occurs when `k == 0`, where the sum of the current combination is checked directly. The recursive process ensures that every possible subset of size `k` is explored, guaranteeing that if any valid combination exists, it will be found. If no combination sums to zero, the algorithm exhausts all possibilities and returns `None`, ensuring completeness. Thus, the algorithm correctly finds a combination of `k` elements that sum to zero or determines that no such combination exists."
   ]
  },
  {
   "cell_type": "markdown",
   "id": "cdd32951-9a96-4dd0-a086-074fb7b0a407",
   "metadata": {},
   "source": [
    "## Runtime"
   ]
  },
  {
   "cell_type": "markdown",
   "id": "b16b4c39-461f-4b5f-a397-154084b005db",
   "metadata": {},
   "source": [
    "- $T(n,k)$: The time it takes to find a combination of size $k$ from an array of size $n$.\n",
    "- The base case occurs when $k = 0$, in which case the function takes $O(k)$ time to compute the sum.\n",
    "- In the recursive case, the function makes `n − start` recursive calls, each of which reduces $k$ by 1.\n",
    "\n",
    "The recurrence relation is:\n",
    "\n",
    "$T(n,k)=(n−start)×T(n−1,k−1)+O(k)$\n",
    "\n",
    "At each level of recursion, we reduce the problem size by one and generate new combinations. The total number of recursive calls is equivalent to the number of ways to choose k elements from n, which is given by the binomial coefficient $\\binom{n}{k}$.\n",
    "\n",
    "The total runtime is proportional to the number of combinations $\\binom{n}{k}$, multiplied by the time to compute the sum for each combination, which is $O(k)$. Therefore, the overall runtime is:\n",
    "$O(k \\times \\binom{n}{k})$\n",
    "\n",
    "Since $\\binom{n}{k} = \\frac{n!}{k!(n-k)!}$ then $O(k \\times \\frac{n!}{k!(n-k)!})$\n"
   ]
  }
 ],
 "metadata": {
  "kernelspec": {
   "display_name": "Python 3 (ipykernel)",
   "language": "python",
   "name": "python3"
  },
  "language_info": {
   "codemirror_mode": {
    "name": "ipython",
    "version": 3
   },
   "file_extension": ".py",
   "mimetype": "text/x-python",
   "name": "python",
   "nbconvert_exporter": "python",
   "pygments_lexer": "ipython3",
   "version": "3.12.0"
  }
 },
 "nbformat": 4,
 "nbformat_minor": 5
}

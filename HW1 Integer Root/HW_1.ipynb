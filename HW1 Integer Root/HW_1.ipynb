{
 "cells": [
  {
   "cell_type": "code",
   "execution_count": 20,
   "id": "37cca65e-06d0-4d74-929a-9adc44316912",
   "metadata": {},
   "outputs": [],
   "source": [
    "def iroot(k, n):\n",
    "    \n",
    "    largest_x = 0\n",
    "    x = 1\n",
    "    sum = 0\n",
    "    while sum <= n:\n",
    "        if sum == n:\n",
    "            return print(x)\n",
    "        elif sum < n:\n",
    "            largest_x = x\n",
    "            x = x+1\n",
    "\n",
    "        # sum = x**k\n",
    "        sum = x\n",
    "        for i in range(k-1):\n",
    "            sum = sum*x\n",
    "\n",
    "    return print(largest_x)"
   ]
  },
  {
   "cell_type": "code",
   "execution_count": 21,
   "id": "652d8b8a-fb93-4073-a4e7-bcdcc2311bc8",
   "metadata": {},
   "outputs": [
    {
     "name": "stdout",
     "output_type": "stream",
     "text": [
      "1\n"
     ]
    }
   ],
   "source": [
    "iroot(1, 1)"
   ]
  },
  {
   "cell_type": "code",
   "execution_count": 22,
   "id": "1a8461cb-b8cd-47cb-94f9-f6a8812bf4b0",
   "metadata": {},
   "outputs": [
    {
     "name": "stdout",
     "output_type": "stream",
     "text": [
      "1\n"
     ]
    }
   ],
   "source": [
    "iroot(2, 1)"
   ]
  },
  {
   "cell_type": "code",
   "execution_count": 23,
   "id": "13e36aa4-a22b-4687-9a00-2bb0cc8675fe",
   "metadata": {},
   "outputs": [
    {
     "name": "stdout",
     "output_type": "stream",
     "text": [
      "1\n"
     ]
    }
   ],
   "source": [
    "iroot(3, 1)"
   ]
  },
  {
   "cell_type": "code",
   "execution_count": 24,
   "id": "b7e98685-9741-47be-8291-2f992f112df1",
   "metadata": {},
   "outputs": [
    {
     "name": "stdout",
     "output_type": "stream",
     "text": [
      "5\n"
     ]
    }
   ],
   "source": [
    "iroot(3, 125)"
   ]
  },
  {
   "cell_type": "code",
   "execution_count": 25,
   "id": "6d8c7f35-95e6-4903-a0e6-9ed3c73d59c9",
   "metadata": {},
   "outputs": [
    {
     "name": "stdout",
     "output_type": "stream",
     "text": [
      "6\n"
     ]
    }
   ],
   "source": [
    "iroot(2, 37)"
   ]
  },
  {
   "cell_type": "code",
   "execution_count": 26,
   "id": "5a777ce7-3fef-49f9-b0ef-cf4967ffa7de",
   "metadata": {},
   "outputs": [
    {
     "name": "stdout",
     "output_type": "stream",
     "text": [
      "9\n"
     ]
    }
   ],
   "source": [
    "iroot(2,99)"
   ]
  }
 ],
 "metadata": {
  "kernelspec": {
   "display_name": "Python 3 (ipykernel)",
   "language": "python",
   "name": "python3"
  },
  "language_info": {
   "codemirror_mode": {
    "name": "ipython",
    "version": 3
   },
   "file_extension": ".py",
   "mimetype": "text/x-python",
   "name": "python",
   "nbconvert_exporter": "python",
   "pygments_lexer": "ipython3",
   "version": "3.12.0"
  }
 },
 "nbformat": 4,
 "nbformat_minor": 5
}

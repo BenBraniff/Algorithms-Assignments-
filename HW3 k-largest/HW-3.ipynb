{
 "cells": [
  {
   "cell_type": "markdown",
   "id": "ca0fa6d8-af52-4b3b-b344-baf073c822e9",
   "metadata": {},
   "source": [
    "# Problem Statement\n",
    "\n"
   ]
  },
  {
   "cell_type": "markdown",
   "id": "ecfb799e-56eb-4293-a287-bbaace313ee5",
   "metadata": {},
   "source": [
    "### K largest from an array of size n in n log k\n",
    "\n",
    "Given an (unsorted) array of n elements, return the largest k elements.\n",
    "- Simplistic, obvious approach? (n log n)\n",
    "- You are asked to do it in (n log k).\n",
    "- You will not get full marks if your code's runtime is not O(n log k).\n",
    "- To clarify any misunderstanding on the correct parameters, here is the functions signature. Fill-in the blanks."
   ]
  },
  {
   "cell_type": "markdown",
   "id": "8789fd57-2043-4397-8ebd-dc653a133535",
   "metadata": {},
   "source": [
    "def largest_k(a,k=1):\n",
    "    \"\"\"a is an array of n elements. We return an array of the k largest.\"\"\"\n",
    "    return b"
   ]
  },
  {
   "cell_type": "markdown",
   "id": "7a6a72b6-a83f-4c0f-92fb-49b35e1e4bf6",
   "metadata": {},
   "source": [
    "## General Idea"
   ]
  },
  {
   "cell_type": "markdown",
   "id": "a2c024c7-4339-48f1-ae46-f0afd7b8d737",
   "metadata": {
    "jp-MarkdownHeadingCollapsed": true
   },
   "source": [
    "We create a min-heap of size k and only add the element a[i] to the heap if it is larger than or equal to the smallest element in the heap. The smallest element in the heap is at position 1. So we compare every element in the array with the heap at position 1, and add to the heap depending on the comparison and the size of the heap at the time."
   ]
  },
  {
   "cell_type": "markdown",
   "id": "0e77b553-8a1a-4b72-9002-e370350521ff",
   "metadata": {},
   "source": [
    "## Code "
   ]
  },
  {
   "cell_type": "code",
   "execution_count": 6,
   "id": "9b3fdd9b-2b3b-4c47-9580-39200941a605",
   "metadata": {
    "jupyter": {
     "source_hidden": true
    }
   },
   "outputs": [],
   "source": [
    "# O(n k)\n",
    "def largest_k_linear(a,k=1):\n",
    "    b = [0]*k\n",
    "\n",
    "    # goes through the entire array 'a' in O(n)\n",
    "    for i in a:\n",
    "        # goes through the array 'b' in worse case O(k)\n",
    "        for j in b:\n",
    "            if a[i] > b[j]:\n",
    "                b.insert(j, a[i])\n",
    "                b = b[0:k]\n",
    "                break\n",
    "    return b"
   ]
  },
  {
   "cell_type": "code",
   "execution_count": 7,
   "id": "2fe11a15-fee9-45d1-b1c9-22233a51a952",
   "metadata": {
    "jupyter": {
     "source_hidden": true
    }
   },
   "outputs": [],
   "source": [
    "# O(n log n) + O(k) = O(n log n)\n",
    "def largest_k_sorted(a, k=1):\n",
    "    # can be assumed to sort in O(n log n)\n",
    "    a = a.sort(reverse=True)\n",
    "    # can be assumed to retrieve first k elements in O(k)\n",
    "    return a[0:k]"
   ]
  },
  {
   "cell_type": "code",
   "execution_count": 15,
   "id": "f6df3540-606d-41c2-9bdf-2c2ce154f3c6",
   "metadata": {
    "jupyter": {
     "source_hidden": true
    }
   },
   "outputs": [],
   "source": [
    "# a is an array of n elements. We return an array of the k largest. \n",
    "# for every element in a, insert in sorted array b of size k. insert using binary search\n",
    "def largest_k_binary(a,k=1):\n",
    "    b = [0]*k\n",
    "\n",
    "    # goes through the entire array 'a' in O(n)\n",
    "    for i in range(len(a)):\n",
    "        l, r = 0, len(b)-1\n",
    "        \n",
    "        # inserts element into 'b' in O(log k)\n",
    "        while (l <= r):\n",
    "            m = l + (r-l)//2\n",
    "            \n",
    "            # code if you reach the last element\n",
    "            if l == r:\n",
    "                if a[i] >= b[m]:\n",
    "                    b.insert(m, a[i])\n",
    "                    b.pop()\n",
    "                    break            \n",
    "                elif (a[i] < b[m]):\n",
    "                    b.insert(m+1, a[i])\n",
    "                    b.pop()\n",
    "                    break\n",
    "                else:\n",
    "                    break\n",
    "            \n",
    "            # code if you by chance come across an element of the same value\n",
    "            if a[i] == b[m]:\n",
    "                b.insert(m, a[i])\n",
    "                b.pop()\n",
    "                break\n",
    "\n",
    "            # code to cut the searching space in half every time\n",
    "            if a[i] > b[m]:\n",
    "                r = m-1            \n",
    "            if a[i] < b[m]:\n",
    "                l = m+1\n",
    "\n",
    "    return b"
   ]
  },
  {
   "cell_type": "code",
   "execution_count": 48,
   "id": "68f46790-a534-444a-a131-6f514792a7db",
   "metadata": {
    "jupyter": {
     "source_hidden": true
    }
   },
   "outputs": [],
   "source": [
    "# functions for min-heap to work\n",
    "def new_heap(n):\n",
    "    return [0]+[0]*n\n",
    "\n",
    "# Inserting element e into min-heap a at the end\n",
    "def insert(a, e):\n",
    "    a[0] = a[0] + 1\n",
    "    a[a[0]] = e\n",
    "    min_heap_fix_up(a,a[0])\n",
    "\n",
    "\n",
    "# Fix up from position i to restore min-heap property of heap a\n",
    "def min_heap_fix_up(a, i):\n",
    "    while i > 1:\n",
    "        p = i // 2\n",
    "        # determines if heap is max-heap or min-heap\n",
    "        #       \\/\n",
    "        if a[p] > a[i]:\n",
    "            a[p],a[i] = a[i],a[p]\n",
    "            i = p\n",
    "        else:\n",
    "            return\n",
    "\n",
    "\n",
    "# remove the top element and fix the rest of the heap from that point\n",
    "def extract_first(a):\n",
    "    e,a[1],a[0] = a[1],a[a[0]],a[0]-1\n",
    "    min_heap_fix_down(a,1)\n",
    "    a[a[0]+1]=0\n",
    "    return e\n",
    "\n",
    "\n",
    "# starting from i, go down and fix the heap by swapping parent and child\n",
    "def min_heap_fix_down(a, i):\n",
    "    while 2*i <= a[0]:\n",
    "        c = 2*i\n",
    "        if c+1 <= a[0]:\n",
    "            # switch to the smaller of the two children\n",
    "            if a[c+1] < a[c]:\n",
    "                c = c+1\n",
    "        # if the child is smaller then swap with parent\n",
    "        if a[i] > a[c]:\n",
    "            a[i],a[c] = a[c],a[i]\n",
    "            i = c\n",
    "        else:\n",
    "            return"
   ]
  },
  {
   "cell_type": "code",
   "execution_count": 45,
   "id": "c3432bb8-e009-4d20-a04f-b6a54ae4f3ef",
   "metadata": {},
   "outputs": [],
   "source": [
    "def largest_k_heap(a,k=1):\n",
    "    # create heap and add elements to heap\n",
    "    h = new_heap(k)\n",
    "    for i in range(len(a)):\n",
    "        # if the heap is full\n",
    "        if h[0] == k:\n",
    "            if a[i] > h[1]:\n",
    "                h[1] = a[i]\n",
    "                min_heap_fix_down(h, 1)     \n",
    "\n",
    "        # if the heap is not full\n",
    "        else:\n",
    "            insert(h, a[i])\n",
    "\n",
    "    # return largest k by returning the heap sorted\n",
    "    b = [None]*k\n",
    "    for j in range(k-1, -1, -1):\n",
    "        b[j] = extract_first(h)\n",
    "    \n",
    "    return b"
   ]
  },
  {
   "cell_type": "markdown",
   "id": "95df4dab-ed54-4752-a9ad-bb16a3d9edba",
   "metadata": {},
   "source": [
    "## Tests"
   ]
  },
  {
   "cell_type": "code",
   "execution_count": 47,
   "id": "bc495cd2-569a-4993-a010-b7e57d9bbed4",
   "metadata": {},
   "outputs": [
    {
     "data": {
      "text/plain": [
       "[18, 10, 7, 6]"
      ]
     },
     "execution_count": 47,
     "metadata": {},
     "output_type": "execute_result"
    }
   ],
   "source": [
    "v = [18,5,7,10,3,6]\n",
    "\n",
    "\n",
    "largest_k_heap(v, 4)"
   ]
  },
  {
   "cell_type": "code",
   "execution_count": 16,
   "id": "7c1a6948-0017-4c3f-ad1b-0436d6f2000a",
   "metadata": {},
   "outputs": [
    {
     "name": "stdout",
     "output_type": "stream",
     "text": [
      "False\n"
     ]
    }
   ],
   "source": [
    "import random\n",
    "test_results = [1]\n",
    "for _ in range (100):\n",
    "    a = random.sample(range(1, 100), random. randint(5, 20))\n",
    "    k = random. randint(1, len(a))\n",
    "    test_results.append(all(x in sorted(a)[-k:] for x in largest_k_binary(a, k)))\n",
    "print(all(test_results))"
   ]
  },
  {
   "cell_type": "code",
   "execution_count": 42,
   "id": "0084fadd-86cd-44dd-9269-04062cb0abf0",
   "metadata": {},
   "outputs": [],
   "source": [
    "import random\n",
    "def generate_array(n):\n",
    "    a = []\n",
    "    for _ in range(n):\n",
    "        a.append(random.randint(0,50))\n",
    "    return a"
   ]
  },
  {
   "cell_type": "code",
   "execution_count": 46,
   "id": "bf4f299f-f900-4dd4-baf7-a6c348e59751",
   "metadata": {},
   "outputs": [
    {
     "name": "stdout",
     "output_type": "stream",
     "text": [
      "[6, 33, 40, 23, 33, 38, 50, 31, 21, 7]\n",
      "[50, 40, 38]\n"
     ]
    }
   ],
   "source": [
    "a = generate_array(10)\n",
    "print(a)\n",
    "print(largest_k_heap(a, 3))"
   ]
  },
  {
   "cell_type": "markdown",
   "id": "c76e3d6b-7801-493c-b557-784af52bbe95",
   "metadata": {},
   "source": [
    "## Proof of Correctness"
   ]
  },
  {
   "cell_type": "markdown",
   "id": "29f4c83e-641a-417f-888b-faf5e41924de",
   "metadata": {},
   "source": []
  },
  {
   "cell_type": "markdown",
   "id": "cdd32951-9a96-4dd0-a086-074fb7b0a407",
   "metadata": {},
   "source": [
    "## Runtime"
   ]
  },
  {
   "cell_type": "markdown",
   "id": "28fbd50a-e5c7-4e60-8b3b-ddea78bade9e",
   "metadata": {},
   "source": [
    "Inserting an element into the heap takes log(len(heap)). Since the size of the heap is 'k', Inserting should take log(k). If we go through the entire array 'a' of length 'n', and worse case insert every element into the heap, the whole runtime should be O(n log(k)). "
   ]
  }
 ],
 "metadata": {
  "kernelspec": {
   "display_name": "Python 3 (ipykernel)",
   "language": "python",
   "name": "python3"
  },
  "language_info": {
   "codemirror_mode": {
    "name": "ipython",
    "version": 3
   },
   "file_extension": ".py",
   "mimetype": "text/x-python",
   "name": "python",
   "nbconvert_exporter": "python",
   "pygments_lexer": "ipython3",
   "version": "3.12.0"
  }
 },
 "nbformat": 4,
 "nbformat_minor": 5
}

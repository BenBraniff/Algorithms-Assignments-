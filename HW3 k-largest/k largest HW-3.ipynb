{
 "cells": [
  {
   "cell_type": "markdown",
   "id": "ca0fa6d8-af52-4b3b-b344-baf073c822e9",
   "metadata": {},
   "source": [
    "# Problem Statement\n",
    "\n"
   ]
  },
  {
   "cell_type": "markdown",
   "id": "ecfb799e-56eb-4293-a287-bbaace313ee5",
   "metadata": {},
   "source": [
    "### K largest from an array of size n in n log k\n",
    "\n",
    "Given an (unsorted) array of n elements, return the largest k elements.\n",
    "- Simplistic, obvious approach? (n log n)\n",
    "- You are asked to do it in (n log k).\n",
    "- You will not get full marks if your code's runtime is not O(n log k).\n",
    "- To clarify any misunderstanding on the correct parameters, here is the functions signature. Fill-in the blanks."
   ]
  },
  {
   "cell_type": "markdown",
   "id": "8789fd57-2043-4397-8ebd-dc653a133535",
   "metadata": {},
   "source": [
    "def largest_k(a,k=1):\n",
    "    \"\"\"a is an array of n elements. We return an array of the k largest.\"\"\"\n",
    "    return b"
   ]
  },
  {
   "cell_type": "markdown",
   "id": "7a6a72b6-a83f-4c0f-92fb-49b35e1e4bf6",
   "metadata": {},
   "source": [
    "## General Idea"
   ]
  },
  {
   "cell_type": "markdown",
   "id": "a2c024c7-4339-48f1-ae46-f0afd7b8d737",
   "metadata": {
    "jp-MarkdownHeadingCollapsed": true
   },
   "source": [
    "We create a min-heap of size 'k' and add or don't add the element a[i] into the heap. The smallest element in the heap is at position 1. So we compare every element in the array with the heap at position 1, and add to the heap depending on the comparison. Then we return the heap which would contain the largest 'k' elements of the array. "
   ]
  },
  {
   "cell_type": "markdown",
   "id": "0e77b553-8a1a-4b72-9002-e370350521ff",
   "metadata": {},
   "source": [
    "## Code "
   ]
  },
  {
   "cell_type": "code",
   "execution_count": 1,
   "id": "68f46790-a534-444a-a131-6f514792a7db",
   "metadata": {},
   "outputs": [],
   "source": [
    "# functions for min-heap to work\n",
    "\n",
    "\n",
    "def new_heap(n):\n",
    "    return [0]+[0]*n\n",
    "\n",
    "\n",
    "# Inserting element e into min-heap a at the end\n",
    "def insert(a, e):\n",
    "    a[0] = a[0] + 1\n",
    "    a[a[0]] = e\n",
    "    min_heap_fix_up(a,a[0])\n",
    "\n",
    "\n",
    "# Fix up from position i to restore min-heap property of heap a\n",
    "def min_heap_fix_up(a, i):\n",
    "    while i > 1:\n",
    "        p = i // 2\n",
    "        # determines if heap is max-heap or min-heap\n",
    "        #       \\/\n",
    "        if a[p] > a[i]:\n",
    "            a[p],a[i] = a[i],a[p]\n",
    "            i = p\n",
    "        else:\n",
    "            return\n",
    "\n",
    "\n",
    "# remove the top element and fix the rest of the heap from that point\n",
    "def extract_first(a):\n",
    "    e,a[1],a[0] = a[1],a[a[0]],a[0]-1\n",
    "    min_heap_fix_down(a,1)\n",
    "    a[a[0]+1]=0\n",
    "    return e\n",
    "\n",
    "\n",
    "# starting from i, go down and fix the heap by swapping parent and child\n",
    "def min_heap_fix_down(a, i):\n",
    "    while 2*i <= a[0]:\n",
    "        c = 2*i\n",
    "        if c+1 <= a[0]:\n",
    "            # switch to the smaller of the two children\n",
    "            if a[c+1] < a[c]:\n",
    "                c = c+1\n",
    "        # if the child is smaller then swap with parent\n",
    "        if a[i] > a[c]:\n",
    "            a[i],a[c] = a[c],a[i]\n",
    "            i = c\n",
    "        else:\n",
    "            return"
   ]
  },
  {
   "cell_type": "code",
   "execution_count": 2,
   "id": "c3432bb8-e009-4d20-a04f-b6a54ae4f3ef",
   "metadata": {},
   "outputs": [],
   "source": [
    "def largest_k_heap(a,k=1):\n",
    "    # create heap and add elements to heap\n",
    "    h = new_heap(k)\n",
    "    for i in range(len(a)):\n",
    "        # if the heap is full\n",
    "        if h[0] == k:\n",
    "            if a[i] > h[1]:\n",
    "                h[1] = a[i]\n",
    "                min_heap_fix_down(h, 1)     \n",
    "\n",
    "        # if the heap is not full\n",
    "        else:\n",
    "            insert(h, a[i])\n",
    "\n",
    "    # return largest k by returning the heap sorted\n",
    "    b = [None]*k\n",
    "    for j in range(k-1, -1, -1):\n",
    "        b[j] = extract_first(h)\n",
    "    \n",
    "    return b"
   ]
  },
  {
   "cell_type": "markdown",
   "id": "95df4dab-ed54-4752-a9ad-bb16a3d9edba",
   "metadata": {},
   "source": [
    "## Tests"
   ]
  },
  {
   "cell_type": "code",
   "execution_count": 3,
   "id": "7c1a6948-0017-4c3f-ad1b-0436d6f2000a",
   "metadata": {},
   "outputs": [
    {
     "name": "stdout",
     "output_type": "stream",
     "text": [
      "True\n"
     ]
    }
   ],
   "source": [
    "import random\n",
    "test_results = []\n",
    "for _ in range (1000):\n",
    "    a = random.sample(range(1, 100), random. randint(5, 20))\n",
    "    k = random. randint(1, len(a))\n",
    "    test_results.append(all(x in sorted(a)[-k:] for x in largest_k_heap(a, k)))\n",
    "print(all(test_results))"
   ]
  },
  {
   "cell_type": "markdown",
   "id": "c76e3d6b-7801-493c-b557-784af52bbe95",
   "metadata": {},
   "source": [
    "## Proof of Correctness"
   ]
  },
  {
   "cell_type": "markdown",
   "id": "29f4c83e-641a-417f-888b-faf5e41924de",
   "metadata": {},
   "source": [
    "The outer for loop goes through every element 'i' in the array 'a'. The element is either added or not added to the min-heap of size 'k'. If the element is smaller than the smallest value in the heap (the value at position 1), then it is not added to the heap. \n",
    "\n",
    "If the element is larger than or equal to the smallest value, and the heap size is smaller than k, then the element will be inserted at the end of the heap and heapify. If the heap is full, the smallest vlaue will be replaced by the element and the heap will re-heapify.\n",
    "\n",
    "After the for loop, the largest 'k' elements will be in the heap and the heap can be read from smallest to largest by extracting the first element over and over until the heap runs out. "
   ]
  },
  {
   "cell_type": "markdown",
   "id": "cdd32951-9a96-4dd0-a086-074fb7b0a407",
   "metadata": {},
   "source": [
    "## Runtime"
   ]
  },
  {
   "cell_type": "markdown",
   "id": "28fbd50a-e5c7-4e60-8b3b-ddea78bade9e",
   "metadata": {},
   "source": [
    "The heap structure is a binary tree. So the worst case for inserting an element into the heap is to traversing the whole heap top-to-bottom (or bottom-to-top) which takes log_base2(len(heap)). Since the size of the heap is fixed to 'k', Inserting should take log(k). \n",
    "\n",
    "If we go through the entire array 'a' of length 'n', and worst case scenario insert every element, the final runtime would be \n",
    "O(n log(k)). "
   ]
  }
 ],
 "metadata": {
  "kernelspec": {
   "display_name": "Python 3 (ipykernel)",
   "language": "python",
   "name": "python3"
  },
  "language_info": {
   "codemirror_mode": {
    "name": "ipython",
    "version": 3
   },
   "file_extension": ".py",
   "mimetype": "text/x-python",
   "name": "python",
   "nbconvert_exporter": "python",
   "pygments_lexer": "ipython3",
   "version": "3.12.0"
  }
 },
 "nbformat": 4,
 "nbformat_minor": 5
}

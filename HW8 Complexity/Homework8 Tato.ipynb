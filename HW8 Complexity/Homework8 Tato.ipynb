{
 "cells": [
  {
   "cell_type": "markdown",
   "id": "d2d5b54d-25ac-4dbd-b957-6d4b465d563b",
   "metadata": {},
   "source": [
    "# 1.0 Problem Statement"
   ]
  },
  {
   "cell_type": "markdown",
   "id": "f3b7fbbf-d110-4b58-9950-c5d4e5fd4797",
   "metadata": {},
   "source": [
    "Your task is to write a backtracking solution to this sort of puzzle. Start small, with a version that does not do anything fancy other than exploring the whole search tree, then try to improve it by finding ways to prune the search tree. Once you have worked out the solution to \"SEND + MORE = MONEY\", for which I give you the solution, apply your code to the following \"THREE + THREE + TWO + TWO + ONE = ELEVEN\". Report the solution and contrast the time to solve both puzzles."
   ]
  },
  {
   "cell_type": "markdown",
   "id": "a470ab1c-ae85-45d6-bde7-8fe3f1e34fab",
   "metadata": {},
   "source": [
    "# 1.1 General Idea"
   ]
  },
  {
   "cell_type": "markdown",
   "id": "16a715dd-d5b7-431f-aba6-541214261eb3",
   "metadata": {},
   "source": [
    "Each letter (e.g., S, E, N, D, M, O, R, Y) corresponds to a unique digit (0-9). The only restrictions are that digits assigned must be unique and leading digits (S, M in this case) cannot be zero. We can use recursion to assign digits to one letter at a time. At each step, ensure that the partial solution satisfies all constraints. Our base case would resemble the following: If all letters are assigned and the resulting equation holds true. For example, if all values in SEND + MORE = MONEY hold true, then return the solution. We must make sure that the digits assigned are unique. If the digits are not unique, then the solution is incorrect.  "
   ]
  },
  {
   "cell_type": "markdown",
   "id": "e4332b80-6e4d-40a6-bbfe-a1f30f783a37",
   "metadata": {},
   "source": [
    "# 1.2 Algorithm"
   ]
  },
  {
   "cell_type": "code",
   "execution_count": null,
   "id": "988c9080-9847-48e2-8e0f-3e09dcc2cca0",
   "metadata": {},
   "outputs": [],
   "source": [
    "def compute(words, result):\n",
    "    \n",
    "    unique_letters = set(\"\".join(words) + result)\n",
    "    if len(unique_letters) > 10:\n",
    "        return None  # More letters than digits, no solution possible\n",
    "\n",
    "    nonzero_letters = {word[0] for word in words + [result]}\n",
    "\n",
    "    # Checks if the current assignment satisfies equation\n",
    "    def is_valid(mapping):\n",
    "        def word_to_number(word):\n",
    "            return int(\"\".join(str(mapping[letter]) for letter in word))\n",
    "\n",
    "        # Compute the sum of addends\n",
    "        total = sum(word_to_number(word) for word in words)\n",
    "        return total == word_to_number(result)\n",
    "\n",
    "    def backtrack(assigned, remaining_digits):\n",
    "        if len(assigned) == len(unique_letters):\n",
    "            if is_valid(assigned):\n",
    "                return assigned\n",
    "            return None\n",
    "\n",
    "        for letter in unique_letters:\n",
    "            if letter not in assigned:\n",
    "                break\n",
    "\n",
    "        for digit in remaining_digits:\n",
    "            if digit == 0 and letter in nonzero_letters:\n",
    "                continue  # Skip zero for nonzero letters\n",
    "\n",
    "            assigned[letter] = digit\n",
    "            result = backtrack(assigned, remaining_digits - {digit})\n",
    "            if result:\n",
    "                return result\n",
    "            del assigned[letter]\n",
    "\n",
    "        return None\n",
    "\n",
    "    return backtrack({}, set(range(10)))\n"
   ]
  },
  {
   "cell_type": "code",
   "execution_count": 9,
   "id": "e976e7ae-a568-4d64-b850-dc1767cb1cc4",
   "metadata": {},
   "outputs": [],
   "source": [
    "def solve_money():\n",
    "    for s in range(1, 10):\n",
    "        for e in range(0, 10):\n",
    "            for n in range(0, 10):\n",
    "                for d in range(0, 10):\n",
    "                    for m in range(1, 10):\n",
    "                        for o in range(0, 10):\n",
    "                            for r in range(0, 10):\n",
    "                                for y in range(0, 10):\n",
    "                                    if distinct(s, e, n, d, m, o, r, y):\n",
    "                                        send = 1000 * s + 100 * e + 10 * n + d\n",
    "                                        more = 1000 * m + 100 * o + 10 * r + e\n",
    "                                        money = 10000 * m + 1000 * o + 100 * n + 10 * e + y\n",
    "                                        if send + more == money:\n",
    "                                            return send, more, money\n",
    "\n",
    "\n",
    "def distinct(*args):\n",
    "    return len(set(args)) == len(args)"
   ]
  },
  {
   "cell_type": "markdown",
   "id": "da544f61-b598-44f8-a52e-1895b92d0997",
   "metadata": {},
   "source": [
    "# 1.3 Testing"
   ]
  },
  {
   "cell_type": "code",
   "execution_count": 11,
   "id": "12747328-6c92-4ac0-90a5-0aa4f3603090",
   "metadata": {},
   "outputs": [
    {
     "name": "stdout",
     "output_type": "stream",
     "text": [
      "(9567, 1085, 10652)\n",
      "It took 16.38 seconds\n"
     ]
    }
   ],
   "source": [
    "from time import time\n",
    "start=time()\n",
    "print(solve_money())\n",
    "end=time()\n",
    "print(\"It took {0:4.2f} seconds\".format(end-start))"
   ]
  },
  {
   "cell_type": "code",
   "execution_count": 13,
   "id": "285109e8-913f-4307-923b-8feb7ca5ff5b",
   "metadata": {},
   "outputs": [
    {
     "name": "stdout",
     "output_type": "stream",
     "text": [
      "{'S': 9, 'O': 0, 'N': 6, 'E': 5, 'D': 7, 'R': 8, 'Y': 2, 'M': 1}\n",
      "It took 3.40 seconds\n"
     ]
    }
   ],
   "source": [
    "from time import time\n",
    "start=time()\n",
    "solution = compute([\"SEND\", \"MORE\"], \"MONEY\")\n",
    "end=time()\n",
    "print(solution)\n",
    "print(\"It took {0:4.2f} seconds\".format(end-start))"
   ]
  },
  {
   "cell_type": "code",
   "execution_count": 14,
   "id": "66f9f0bd-9400-4ffe-ac0f-ced11c4c201b",
   "metadata": {},
   "outputs": [
    {
     "name": "stdout",
     "output_type": "stream",
     "text": [
      "{'L': 7, 'O': 3, 'N': 9, 'R': 6, 'E': 1, 'V': 2, 'T': 8, 'W': 0, 'H': 4}\n",
      "It took 8.77 seconds\n"
     ]
    }
   ],
   "source": [
    "from time import time\n",
    "start=time()\n",
    "solution = compute([\"THREE\", \"THREE\", \"TWO\", \"TWO\", \"ONE\"], \"ELEVEN\")\n",
    "end=time()\n",
    "print(solution)\n",
    "print(\"It took {0:4.2f} seconds\".format(end-start))"
   ]
  },
  {
   "cell_type": "markdown",
   "id": "763bda6c-32bc-417e-95d9-bd11c2933736",
   "metadata": {},
   "source": [
    "# 1.4 Proof of Correctness"
   ]
  },
  {
   "cell_type": "markdown",
   "id": "70952387-4102-4ae7-9b94-81210ad6a159",
   "metadata": {},
   "source": [
    "Proof of Correctness\n",
    "The algorithm solves the cryptarithm problem by assigning unique digits to each letter and making sure the sum of the words equals the result. We must show:\n",
    "\t1.\tCompleteness: If a solution exists, it will be found.\n",
    "\t2.\tSoundness: Every solution produced satisfies the problem constraints.\n",
    "\n",
    "Completeness\n",
    "The algorithm finds all unique letters in the input and assigns each a digit without repetition. Using backtracking, it explores all possible assignments for these letters. Pruning is applied to improve efficiency by checking letters that are the first character of a word (nonzero constraint) and rejecting assignments that fail intermediate checks. Since the algorithm considers every valid digit assignment within these constraints, it cannot miss a correct solution if one exists.\n",
    "\n",
    "Soundness\n",
    "The algorithm makes sure that any solution returned satisfies the cryptarithm equation and all constraints:\n",
    "\t1.\tAfter assigning digits to all letters, it converts each word into a number.\n",
    "\t2.\tIt checks whether the sum of the numbers corresponding to the input words equals the number formed by the result.\n",
    "\t3.\tIt makes sure no word starts with 0.\n",
    "\n",
    "Only assignments passing all these checks are returned as solutions. Invalid assignments are rejected during backtracking.\n",
    "\n",
    "Conclusion\n",
    "By exploring all possible digit assignments and verifying them against the problem constraints, the algorithm ensures every solution it returns is valid and if a solution exists, it will be found. Therefore, the algorithm is both complete and sound, proving its correctness.\n"
   ]
  },
  {
   "cell_type": "markdown",
   "id": "84df994c-6ff3-444d-bfa6-ff5ffdd43bf7",
   "metadata": {},
   "source": [
    "# 1.5 Runtime"
   ]
  },
  {
   "cell_type": "markdown",
   "id": "45fbb95f-ef6b-4d2f-98f0-bcf967aa8972",
   "metadata": {},
   "source": [
    "Let the number of unique letters be L, the length of the longest word be w, and the amount of words being summed equal n.\n",
    "\n",
    "The algorithm assigns a digit to each of the L unique letters, and there are 10 possible digits for each letter (0-9). The total number of possible digit assignments is equal to 10!/(10-L)!, which equals P(10, L).\n",
    "\n",
    "Converting each word into a number takes at worst O(w) time, because you have to go through at most w digits. Summing all the words takes O(n) time. Multiplying these two equates to O(w * n).\n",
    "\n",
    "Combining these two runtimes gives a total runtime of O(P(10, L) n * w).\n",
    "\n",
    "Therefore, the algorithm has a time complexity of O(P(10, L) n * w)."
   ]
  }
 ],
 "metadata": {
  "kernelspec": {
   "display_name": "Python 3 (ipykernel)",
   "language": "python",
   "name": "python3"
  },
  "language_info": {
   "codemirror_mode": {
    "name": "ipython",
    "version": 3
   },
   "file_extension": ".py",
   "mimetype": "text/x-python",
   "name": "python",
   "nbconvert_exporter": "python",
   "pygments_lexer": "ipython3",
   "version": "3.12.0"
  }
 },
 "nbformat": 4,
 "nbformat_minor": 5
}

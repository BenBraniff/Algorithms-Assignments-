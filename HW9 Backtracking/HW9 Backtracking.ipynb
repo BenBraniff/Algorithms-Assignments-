{
 "cells": [
  {
   "cell_type": "markdown",
   "id": "ca0fa6d8-af52-4b3b-b344-baf073c822e9",
   "metadata": {},
   "source": [
    "# Problem Statement\n",
    "\n"
   ]
  },
  {
   "cell_type": "markdown",
   "id": "ecfb799e-56eb-4293-a287-bbaace313ee5",
   "metadata": {},
   "source": [
    "A classic puzzle of recreational mathematics is the cryptarithm, where the\n",
    "solver is given a math problem in words and must systematically substitute\n",
    "digits for the letters of the puzzle to form a valid calculation. For instance,\n",
    "the famous cryptarithm SEND + MORE = MONEY is solved as M=1,\n",
    "Y=2, E=5, N=6, D=7, R=8, S=9 and O=0, giving 9567 + 1085 = 10652.\n",
    "Cryptarithms were invented by H. E. Dudeney in the July 1924 edition of\n",
    "Strand Magazine.\n",
    "Your task is to write a backtracking solution to this sort of puzzle. Start\n",
    "small, with a version that does not do anything fancy other than exploring\n",
    "the whole search tree, then try to improve it by nding ways to prune the\n",
    "search tree.\n",
    "Once you have worked out the solution to \"SEND + MORE = MONEY\",\n",
    "for which I give you the solution, apply your code to the following \"THREE + THREE + TWO + TWO + ONE = ELEVEN\". Report the solution and\n",
    "contrast the time to solve both puzzles."
   ]
  },
  {
   "cell_type": "markdown",
   "id": "7a6a72b6-a83f-4c0f-92fb-49b35e1e4bf6",
   "metadata": {},
   "source": [
    "## General Idea"
   ]
  },
  {
   "cell_type": "markdown",
   "id": "c1fb55c4-4e04-43b1-a3c1-cf2e9e495ebf",
   "metadata": {},
   "source": [
    "Brute force method but reduce the search space"
   ]
  },
  {
   "cell_type": "markdown",
   "id": "0e77b553-8a1a-4b72-9002-e370350521ff",
   "metadata": {},
   "source": [
    "## Code "
   ]
  },
  {
   "cell_type": "code",
   "execution_count": 1,
   "id": "4734b81c-93a1-4c31-9322-62345552a1bd",
   "metadata": {},
   "outputs": [],
   "source": [
    "def distinct(*args):\n",
    "    return len(set(args)) == len(args)\n",
    "\n",
    "# searching through 10^9 = 1,000,000,000\n",
    "def solve_eleven():\n",
    "    for t in range(0, 10):\n",
    "        for h in range(0, 10):\n",
    "            for r in range(0, 10):\n",
    "                for e in range(0, 10):\n",
    "                    for w in range(0, 10):\n",
    "                        for o in range(0, 10):\n",
    "                            for n in range(0, 10):\n",
    "                                for l in range(0, 10):\n",
    "                                    for v in range(0, 10):\n",
    "                                        if distinct(t,h,r,e,w,o,n,l,v):\n",
    "                                            three =               10000 * t + 1000 * h + 100 * r + 10 * e + e\n",
    "                                            two =                                        100 * t + 10 * w + o\n",
    "                                            one =                                        100 * o + 10 * n + e\n",
    "                                            eleven = 100000 * e + 10000 * l + 1000 * e + 100 * v + 10 * e + n\n",
    "                                            if 2*three + 2*two + one == eleven:\n",
    "                                                return three, two, one, eleven\n",
    "\n",
    "# t, o, and e have to be >0 since they are the leading digit (i.e. 0123 or 0043 aren't allowed)\n",
    "# searching through 10^6 * 9^3 = 729,000,000\n",
    "# still searching through redundant numbers\n",
    "def solve_eleven1():\n",
    "    for t in range(1, 10): # t != 0\n",
    "        for h in range(0, 10):\n",
    "            for r in range(0, 10):\n",
    "                for e in range(1, 10): # e != 0\n",
    "                    for w in range(0, 10):\n",
    "                        for o in range(1, 10): # o != 0\n",
    "                            for n in range(0, 10):\n",
    "                                for l in range(0, 10):\n",
    "                                    for v in range(0, 10):\n",
    "                                        if distinct(t,h,r,e,w,o,n,l,v):\n",
    "                                            three =               10000 * t + 1000 * h + 100 * r + 10 * e + e\n",
    "                                            two =                                        100 * t + 10 * w + o\n",
    "                                            one =                                        100 * o + 10 * n + e\n",
    "                                            eleven = 100000 * e + 10000 * l + 1000 * e + 100 * v + 10 * e + n\n",
    "                                            if 2*three + 2*two + one == eleven:\n",
    "                                                return three, two, one, eleven\n",
    "\n",
    "\n",
    "# only use unique number assignments to each letter\n",
    "# if more unique letters than numbers no solution\n",
    "# leading letters in words can't be 0\n",
    "# if the equation is valid, return solution\n",
    "#  _ _ _ _ _ _ _ _ _\n",
    "#  T H R E W O N L Y\n",
    "# 10*9*8*7*6*5*4*3*2 unique number possibilities\n",
    "# 10! / 1! = 3,628,800\n",
    "# T, O, E != 0 because T in Three, T in Two, O in One, and E in Eleven\n",
    "# def solve_eleven2():\n"
   ]
  },
  {
   "cell_type": "markdown",
   "id": "95df4dab-ed54-4752-a9ad-bb16a3d9edba",
   "metadata": {},
   "source": [
    "## Tests"
   ]
  },
  {
   "cell_type": "code",
   "execution_count": 3,
   "id": "76411ab4-b6ab-40ac-8cb0-f0e757d7a1a2",
   "metadata": {},
   "outputs": [
    {
     "name": "stdout",
     "output_type": "stream",
     "text": [
      "(29700, 214, 480, 60308)\n",
      "It took 59.44 seconds\n"
     ]
    }
   ],
   "source": [
    "from time import time\n",
    "start=time()\n",
    "print(solve_eleven())\n",
    "end=time()\n",
    "print(\"It took {0:4.2f} seconds\".format(end-start))"
   ]
  },
  {
   "cell_type": "markdown",
   "id": "64871869-1673-47bd-b014-e75a4eae51f6",
   "metadata": {},
   "source": [
    "^ not a valid solution because e is 0"
   ]
  },
  {
   "cell_type": "code",
   "execution_count": 4,
   "id": "12bd5095-b49f-4a47-ad99-94b7f65bfec4",
   "metadata": {},
   "outputs": [
    {
     "name": "stdout",
     "output_type": "stream",
     "text": [
      "(84611, 803, 391, 171219)\n",
      "It took 119.79 seconds\n"
     ]
    }
   ],
   "source": [
    "from time import time\n",
    "start=time()\n",
    "print(solve_eleven1())\n",
    "end=time()\n",
    "print(\"It took {0:4.2f} seconds\".format(end-start))"
   ]
  },
  {
   "cell_type": "markdown",
   "id": "c76e3d6b-7801-493c-b557-784af52bbe95",
   "metadata": {},
   "source": [
    "## Proof of Correctness"
   ]
  },
  {
   "cell_type": "markdown",
   "id": "68782753-aeec-4368-a55c-2c1f00fa9bee",
   "metadata": {},
   "source": []
  },
  {
   "cell_type": "markdown",
   "id": "cdd32951-9a96-4dd0-a086-074fb7b0a407",
   "metadata": {},
   "source": [
    "## Runtime"
   ]
  },
  {
   "cell_type": "markdown",
   "id": "2fbe3411-4ed9-410d-a5bd-c34ed8e712e3",
   "metadata": {},
   "source": []
  }
 ],
 "metadata": {
  "kernelspec": {
   "display_name": "Python 3 (ipykernel)",
   "language": "python",
   "name": "python3"
  },
  "language_info": {
   "codemirror_mode": {
    "name": "ipython",
    "version": 3
   },
   "file_extension": ".py",
   "mimetype": "text/x-python",
   "name": "python",
   "nbconvert_exporter": "python",
   "pygments_lexer": "ipython3",
   "version": "3.12.0"
  }
 },
 "nbformat": 4,
 "nbformat_minor": 5
}
